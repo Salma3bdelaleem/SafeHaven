{
 "cells": [
  {
   "cell_type": "markdown",
   "metadata": {},
   "source": [
    "Reading The Data****\n",
    "-------------------------\n"
   ]
  },
  {
   "cell_type": "code",
   "execution_count": 1,
   "metadata": {
    "_cell_guid": "b1076dfc-b9ad-4769-8c92-a6c4dae69d19",
    "_uuid": "8f2839f25d086af736a60e9eeb907d3b93b6e0e5",
    "execution": {
     "iopub.execute_input": "2024-11-06T20:29:43.066352Z",
     "iopub.status.busy": "2024-11-06T20:29:43.065958Z",
     "iopub.status.idle": "2024-11-06T20:29:44.090418Z",
     "shell.execute_reply": "2024-11-06T20:29:44.089316Z",
     "shell.execute_reply.started": "2024-11-06T20:29:43.066312Z"
    },
    "trusted": true
   },
   "outputs": [
    {
     "name": "stdout",
     "output_type": "stream",
     "text": [
      "/kaggle/input/adult-subjects-70-95-years-activity-recognition/503.csv\n",
      "/kaggle/input/adult-subjects-70-95-years-activity-recognition/506.csv\n",
      "/kaggle/input/adult-subjects-70-95-years-activity-recognition/507.csv\n",
      "/kaggle/input/adult-subjects-70-95-years-activity-recognition/505.csv\n",
      "/kaggle/input/adult-subjects-70-95-years-activity-recognition/515.csv\n",
      "/kaggle/input/adult-subjects-70-95-years-activity-recognition/513.csv\n",
      "/kaggle/input/adult-subjects-70-95-years-activity-recognition/512.csv\n",
      "/kaggle/input/adult-subjects-70-95-years-activity-recognition/509.csv\n",
      "/kaggle/input/adult-subjects-70-95-years-activity-recognition/502.csv\n",
      "/kaggle/input/adult-subjects-70-95-years-activity-recognition/508.csv\n",
      "/kaggle/input/adult-subjects-70-95-years-activity-recognition/501.csv\n",
      "/kaggle/input/adult-subjects-70-95-years-activity-recognition/511.csv\n",
      "/kaggle/input/adult-subjects-70-95-years-activity-recognition/514.csv\n",
      "/kaggle/input/adult-subjects-70-95-years-activity-recognition/504.csv\n",
      "/kaggle/input/adult-subjects-70-95-years-activity-recognition/510.csv\n"
     ]
    }
   ],
   "source": [
    "# This Python 3 environment comes with many helpful analytics libraries installed\n",
    "# It is defined by the kaggle/python Docker image: https://github.com/kaggle/docker-python\n",
    "# For example, here's several helpful packages to load\n",
    "\n",
    "import numpy as np # linear algebra\n",
    "import pandas as pd # data processing, CSV file I/O (e.g. pd.read_csv)\n",
    "\n",
    "# Input data files are available in the read-only \"../input/\" directory\n",
    "# For example, running this (by clicking run or pressing Shift+Enter) will list all files under the input directory\n",
    "\n",
    "import os\n",
    "for dirname, _, filenames in os.walk('/kaggle/input'):\n",
    "    for filename in filenames:\n",
    "        print(os.path.join(dirname, filename))\n",
    "\n",
    "# You can write up to 20GB to the current directory (/kaggle/working/) that gets preserved as output when you create a version using \"Save & Run All\" \n",
    "# You can also write temporary files to /kaggle/temp/, but they won't be saved outside of the current session"
   ]
  },
  {
   "cell_type": "code",
   "execution_count": 2,
   "metadata": {
    "execution": {
     "iopub.execute_input": "2024-11-06T20:29:48.449875Z",
     "iopub.status.busy": "2024-11-06T20:29:48.449045Z",
     "iopub.status.idle": "2024-11-06T20:29:49.448714Z",
     "shell.execute_reply": "2024-11-06T20:29:49.447522Z",
     "shell.execute_reply.started": "2024-11-06T20:29:48.449822Z"
    },
    "trusted": true
   },
   "outputs": [
    {
     "name": "stdout",
     "output_type": "stream",
     "text": [
      "adult-subjects-70-95-years-activity-recognition\n"
     ]
    }
   ],
   "source": [
    "# Display files and folders in /kaggle/input\n",
    "!ls /kaggle/input"
   ]
  },
  {
   "cell_type": "code",
   "execution_count": 3,
   "metadata": {
    "execution": {
     "iopub.execute_input": "2024-11-06T20:29:52.190075Z",
     "iopub.status.busy": "2024-11-06T20:29:52.189136Z",
     "iopub.status.idle": "2024-11-06T20:29:53.184259Z",
     "shell.execute_reply": "2024-11-06T20:29:53.183313Z",
     "shell.execute_reply.started": "2024-11-06T20:29:52.190007Z"
    },
    "trusted": true
   },
   "outputs": [
    {
     "name": "stdout",
     "output_type": "stream",
     "text": [
      "501.csv  503.csv  505.csv  507.csv  509.csv  511.csv  513.csv  515.csv\n",
      "502.csv  504.csv  506.csv  508.csv  510.csv  512.csv  514.csv\n"
     ]
    }
   ],
   "source": [
    "# View folder contents to check file names\n",
    "!ls /kaggle/input/adult-subjects-70-95-years-activity-recognition"
   ]
  },
  {
   "cell_type": "code",
   "execution_count": 4,
   "metadata": {
    "execution": {
     "iopub.execute_input": "2024-11-06T20:29:56.557025Z",
     "iopub.status.busy": "2024-11-06T20:29:56.556657Z",
     "iopub.status.idle": "2024-11-06T20:30:01.080243Z",
     "shell.execute_reply": "2024-11-06T20:30:01.079219Z",
     "shell.execute_reply.started": "2024-11-06T20:29:56.556990Z"
    },
    "trusted": true
   },
   "outputs": [
    {
     "data": {
      "text/html": [
       "<div>\n",
       "<style scoped>\n",
       "    .dataframe tbody tr th:only-of-type {\n",
       "        vertical-align: middle;\n",
       "    }\n",
       "\n",
       "    .dataframe tbody tr th {\n",
       "        vertical-align: top;\n",
       "    }\n",
       "\n",
       "    .dataframe thead th {\n",
       "        text-align: right;\n",
       "    }\n",
       "</style>\n",
       "<table border=\"1\" class=\"dataframe\">\n",
       "  <thead>\n",
       "    <tr style=\"text-align: right;\">\n",
       "      <th></th>\n",
       "      <th>timestamp</th>\n",
       "      <th>back_x</th>\n",
       "      <th>back_y</th>\n",
       "      <th>back_z</th>\n",
       "      <th>thigh_x</th>\n",
       "      <th>thigh_y</th>\n",
       "      <th>thigh_z</th>\n",
       "      <th>label</th>\n",
       "    </tr>\n",
       "  </thead>\n",
       "  <tbody>\n",
       "    <tr>\n",
       "      <th>0</th>\n",
       "      <td>2021-03-29 14:42:07.460</td>\n",
       "      <td>-0.971680</td>\n",
       "      <td>-0.072266</td>\n",
       "      <td>-0.175781</td>\n",
       "      <td>-1.712158</td>\n",
       "      <td>-0.120117</td>\n",
       "      <td>1.502686</td>\n",
       "      <td>6</td>\n",
       "    </tr>\n",
       "    <tr>\n",
       "      <th>1</th>\n",
       "      <td>2021-03-29 14:42:07.480</td>\n",
       "      <td>-1.364746</td>\n",
       "      <td>0.182861</td>\n",
       "      <td>-0.377197</td>\n",
       "      <td>-1.580322</td>\n",
       "      <td>-0.170166</td>\n",
       "      <td>-0.145508</td>\n",
       "      <td>6</td>\n",
       "    </tr>\n",
       "    <tr>\n",
       "      <th>2</th>\n",
       "      <td>2021-03-29 14:42:07.500</td>\n",
       "      <td>-1.249512</td>\n",
       "      <td>0.182129</td>\n",
       "      <td>-0.466553</td>\n",
       "      <td>-1.052734</td>\n",
       "      <td>-0.261719</td>\n",
       "      <td>-0.783691</td>\n",
       "      <td>6</td>\n",
       "    </tr>\n",
       "    <tr>\n",
       "      <th>3</th>\n",
       "      <td>2021-03-29 14:42:07.520</td>\n",
       "      <td>-0.841553</td>\n",
       "      <td>-0.026855</td>\n",
       "      <td>-0.445557</td>\n",
       "      <td>-0.863281</td>\n",
       "      <td>-0.132568</td>\n",
       "      <td>-0.416992</td>\n",
       "      <td>6</td>\n",
       "    </tr>\n",
       "    <tr>\n",
       "      <th>4</th>\n",
       "      <td>2021-03-29 14:42:07.539</td>\n",
       "      <td>-0.669189</td>\n",
       "      <td>-0.068115</td>\n",
       "      <td>-0.380371</td>\n",
       "      <td>-0.720215</td>\n",
       "      <td>-0.083496</td>\n",
       "      <td>-0.291504</td>\n",
       "      <td>6</td>\n",
       "    </tr>\n",
       "    <tr>\n",
       "      <th>...</th>\n",
       "      <td>...</td>\n",
       "      <td>...</td>\n",
       "      <td>...</td>\n",
       "      <td>...</td>\n",
       "      <td>...</td>\n",
       "      <td>...</td>\n",
       "      <td>...</td>\n",
       "      <td>...</td>\n",
       "    </tr>\n",
       "    <tr>\n",
       "      <th>1832555</th>\n",
       "      <td>2021-05-07 08:58:45.009</td>\n",
       "      <td>-0.974121</td>\n",
       "      <td>0.107666</td>\n",
       "      <td>-0.255615</td>\n",
       "      <td>-1.002930</td>\n",
       "      <td>0.034424</td>\n",
       "      <td>0.113525</td>\n",
       "      <td>6</td>\n",
       "    </tr>\n",
       "    <tr>\n",
       "      <th>1832556</th>\n",
       "      <td>2021-05-07 08:58:45.029</td>\n",
       "      <td>-0.958008</td>\n",
       "      <td>0.093018</td>\n",
       "      <td>-0.255615</td>\n",
       "      <td>-0.998779</td>\n",
       "      <td>0.019043</td>\n",
       "      <td>0.124756</td>\n",
       "      <td>6</td>\n",
       "    </tr>\n",
       "    <tr>\n",
       "      <th>1832557</th>\n",
       "      <td>2021-05-07 08:58:45.049</td>\n",
       "      <td>-0.957764</td>\n",
       "      <td>0.076660</td>\n",
       "      <td>-0.257568</td>\n",
       "      <td>-0.967529</td>\n",
       "      <td>0.021484</td>\n",
       "      <td>0.092529</td>\n",
       "      <td>6</td>\n",
       "    </tr>\n",
       "    <tr>\n",
       "      <th>1832558</th>\n",
       "      <td>2021-05-07 08:58:45.069</td>\n",
       "      <td>-0.946045</td>\n",
       "      <td>0.073730</td>\n",
       "      <td>-0.243164</td>\n",
       "      <td>-0.971680</td>\n",
       "      <td>0.018066</td>\n",
       "      <td>0.095947</td>\n",
       "      <td>6</td>\n",
       "    </tr>\n",
       "    <tr>\n",
       "      <th>1832559</th>\n",
       "      <td>2021-05-07 08:58:45.090</td>\n",
       "      <td>-0.928223</td>\n",
       "      <td>0.074219</td>\n",
       "      <td>-0.238770</td>\n",
       "      <td>-0.971680</td>\n",
       "      <td>-0.001221</td>\n",
       "      <td>0.100342</td>\n",
       "      <td>6</td>\n",
       "    </tr>\n",
       "  </tbody>\n",
       "</table>\n",
       "<p>1832560 rows × 8 columns</p>\n",
       "</div>"
      ],
      "text/plain": [
       "                       timestamp    back_x    back_y    back_z   thigh_x  \\\n",
       "0        2021-03-29 14:42:07.460 -0.971680 -0.072266 -0.175781 -1.712158   \n",
       "1        2021-03-29 14:42:07.480 -1.364746  0.182861 -0.377197 -1.580322   \n",
       "2        2021-03-29 14:42:07.500 -1.249512  0.182129 -0.466553 -1.052734   \n",
       "3        2021-03-29 14:42:07.520 -0.841553 -0.026855 -0.445557 -0.863281   \n",
       "4        2021-03-29 14:42:07.539 -0.669189 -0.068115 -0.380371 -0.720215   \n",
       "...                          ...       ...       ...       ...       ...   \n",
       "1832555  2021-05-07 08:58:45.009 -0.974121  0.107666 -0.255615 -1.002930   \n",
       "1832556  2021-05-07 08:58:45.029 -0.958008  0.093018 -0.255615 -0.998779   \n",
       "1832557  2021-05-07 08:58:45.049 -0.957764  0.076660 -0.257568 -0.967529   \n",
       "1832558  2021-05-07 08:58:45.069 -0.946045  0.073730 -0.243164 -0.971680   \n",
       "1832559  2021-05-07 08:58:45.090 -0.928223  0.074219 -0.238770 -0.971680   \n",
       "\n",
       "          thigh_y   thigh_z  label  \n",
       "0       -0.120117  1.502686      6  \n",
       "1       -0.170166 -0.145508      6  \n",
       "2       -0.261719 -0.783691      6  \n",
       "3       -0.132568 -0.416992      6  \n",
       "4       -0.083496 -0.291504      6  \n",
       "...           ...       ...    ...  \n",
       "1832555  0.034424  0.113525      6  \n",
       "1832556  0.019043  0.124756      6  \n",
       "1832557  0.021484  0.092529      6  \n",
       "1832558  0.018066  0.095947      6  \n",
       "1832559 -0.001221  0.100342      6  \n",
       "\n",
       "[1832560 rows x 8 columns]"
      ]
     },
     "execution_count": 4,
     "metadata": {},
     "output_type": "execute_result"
    }
   ],
   "source": [
    "# import needed libraries\n",
    "import pandas as pd\n",
    "import glob\n",
    "\n",
    "# Specify the path of files within the folder\n",
    "file_paths = glob.glob('/kaggle/input/adult-subjects-70-95-years-activity-recognition/*.csv')\n",
    "\n",
    "# Read each file and compile them into one DataFrame\n",
    "all_data = pd.concat((pd.read_csv(file) for file in file_paths), ignore_index=True)\n",
    "\n",
    "# Display Data\n",
    "all_data\n"
   ]
  },
  {
   "cell_type": "markdown",
   "metadata": {},
   "source": [
    "Data Preprocessing****\n",
    "----------------------------"
   ]
  },
  {
   "cell_type": "code",
   "execution_count": 5,
   "metadata": {
    "execution": {
     "iopub.execute_input": "2024-11-06T20:30:05.479465Z",
     "iopub.status.busy": "2024-11-06T20:30:05.479117Z",
     "iopub.status.idle": "2024-11-06T20:30:05.819230Z",
     "shell.execute_reply": "2024-11-06T20:30:05.818414Z",
     "shell.execute_reply.started": "2024-11-06T20:30:05.479434Z"
    },
    "trusted": true
   },
   "outputs": [],
   "source": [
    "# Ensure there are no missing values\n",
    "all_data = all_data.dropna()\n",
    "\n",
    "# Convert values to decimals, if there are columns that need to be modified\n",
    "# Check data types to be sure\n",
    "all_data = all_data.astype({\n",
    "    'back_x': 'float64',\n",
    "    'back_y': 'float64',\n",
    "    'back_z': 'float64',\n",
    "    'thigh_x': 'float64',\n",
    "    'thigh_y': 'float64',\n",
    "    'thigh_z': 'float64',\n",
    "    'label': 'int'\n",
    "})"
   ]
  },
  {
   "cell_type": "code",
   "execution_count": 6,
   "metadata": {
    "execution": {
     "iopub.execute_input": "2024-11-06T20:30:09.308558Z",
     "iopub.status.busy": "2024-11-06T20:30:09.307819Z",
     "iopub.status.idle": "2024-11-06T20:30:09.321743Z",
     "shell.execute_reply": "2024-11-06T20:30:09.320828Z",
     "shell.execute_reply.started": "2024-11-06T20:30:09.308515Z"
    },
    "trusted": true
   },
   "outputs": [
    {
     "data": {
      "text/html": [
       "<div>\n",
       "<style scoped>\n",
       "    .dataframe tbody tr th:only-of-type {\n",
       "        vertical-align: middle;\n",
       "    }\n",
       "\n",
       "    .dataframe tbody tr th {\n",
       "        vertical-align: top;\n",
       "    }\n",
       "\n",
       "    .dataframe thead th {\n",
       "        text-align: right;\n",
       "    }\n",
       "</style>\n",
       "<table border=\"1\" class=\"dataframe\">\n",
       "  <thead>\n",
       "    <tr style=\"text-align: right;\">\n",
       "      <th></th>\n",
       "      <th>timestamp</th>\n",
       "      <th>back_x</th>\n",
       "      <th>back_y</th>\n",
       "      <th>back_z</th>\n",
       "      <th>thigh_x</th>\n",
       "      <th>thigh_y</th>\n",
       "      <th>thigh_z</th>\n",
       "      <th>label</th>\n",
       "    </tr>\n",
       "  </thead>\n",
       "  <tbody>\n",
       "    <tr>\n",
       "      <th>0</th>\n",
       "      <td>2021-03-29 14:42:07.460</td>\n",
       "      <td>-0.971680</td>\n",
       "      <td>-0.072266</td>\n",
       "      <td>-0.175781</td>\n",
       "      <td>-1.712158</td>\n",
       "      <td>-0.120117</td>\n",
       "      <td>1.502686</td>\n",
       "      <td>6</td>\n",
       "    </tr>\n",
       "    <tr>\n",
       "      <th>1</th>\n",
       "      <td>2021-03-29 14:42:07.480</td>\n",
       "      <td>-1.364746</td>\n",
       "      <td>0.182861</td>\n",
       "      <td>-0.377197</td>\n",
       "      <td>-1.580322</td>\n",
       "      <td>-0.170166</td>\n",
       "      <td>-0.145508</td>\n",
       "      <td>6</td>\n",
       "    </tr>\n",
       "    <tr>\n",
       "      <th>2</th>\n",
       "      <td>2021-03-29 14:42:07.500</td>\n",
       "      <td>-1.249512</td>\n",
       "      <td>0.182129</td>\n",
       "      <td>-0.466553</td>\n",
       "      <td>-1.052734</td>\n",
       "      <td>-0.261719</td>\n",
       "      <td>-0.783691</td>\n",
       "      <td>6</td>\n",
       "    </tr>\n",
       "    <tr>\n",
       "      <th>3</th>\n",
       "      <td>2021-03-29 14:42:07.520</td>\n",
       "      <td>-0.841553</td>\n",
       "      <td>-0.026855</td>\n",
       "      <td>-0.445557</td>\n",
       "      <td>-0.863281</td>\n",
       "      <td>-0.132568</td>\n",
       "      <td>-0.416992</td>\n",
       "      <td>6</td>\n",
       "    </tr>\n",
       "    <tr>\n",
       "      <th>4</th>\n",
       "      <td>2021-03-29 14:42:07.539</td>\n",
       "      <td>-0.669189</td>\n",
       "      <td>-0.068115</td>\n",
       "      <td>-0.380371</td>\n",
       "      <td>-0.720215</td>\n",
       "      <td>-0.083496</td>\n",
       "      <td>-0.291504</td>\n",
       "      <td>6</td>\n",
       "    </tr>\n",
       "  </tbody>\n",
       "</table>\n",
       "</div>"
      ],
      "text/plain": [
       "                 timestamp    back_x    back_y    back_z   thigh_x   thigh_y  \\\n",
       "0  2021-03-29 14:42:07.460 -0.971680 -0.072266 -0.175781 -1.712158 -0.120117   \n",
       "1  2021-03-29 14:42:07.480 -1.364746  0.182861 -0.377197 -1.580322 -0.170166   \n",
       "2  2021-03-29 14:42:07.500 -1.249512  0.182129 -0.466553 -1.052734 -0.261719   \n",
       "3  2021-03-29 14:42:07.520 -0.841553 -0.026855 -0.445557 -0.863281 -0.132568   \n",
       "4  2021-03-29 14:42:07.539 -0.669189 -0.068115 -0.380371 -0.720215 -0.083496   \n",
       "\n",
       "    thigh_z  label  \n",
       "0  1.502686      6  \n",
       "1 -0.145508      6  \n",
       "2 -0.783691      6  \n",
       "3 -0.416992      6  \n",
       "4 -0.291504      6  "
      ]
     },
     "execution_count": 6,
     "metadata": {},
     "output_type": "execute_result"
    }
   ],
   "source": [
    "all_data.head()"
   ]
  },
  {
   "cell_type": "code",
   "execution_count": 7,
   "metadata": {
    "execution": {
     "iopub.execute_input": "2024-11-06T20:30:13.458365Z",
     "iopub.status.busy": "2024-11-06T20:30:13.457979Z",
     "iopub.status.idle": "2024-11-06T20:30:13.478235Z",
     "shell.execute_reply": "2024-11-06T20:30:13.477105Z",
     "shell.execute_reply.started": "2024-11-06T20:30:13.458331Z"
    },
    "trusted": true
   },
   "outputs": [
    {
     "name": "stdout",
     "output_type": "stream",
     "text": [
      "<class 'pandas.core.frame.DataFrame'>\n",
      "RangeIndex: 1832560 entries, 0 to 1832559\n",
      "Data columns (total 8 columns):\n",
      " #   Column     Dtype  \n",
      "---  ------     -----  \n",
      " 0   timestamp  object \n",
      " 1   back_x     float64\n",
      " 2   back_y     float64\n",
      " 3   back_z     float64\n",
      " 4   thigh_x    float64\n",
      " 5   thigh_y    float64\n",
      " 6   thigh_z    float64\n",
      " 7   label      int64  \n",
      "dtypes: float64(6), int64(1), object(1)\n",
      "memory usage: 111.9+ MB\n"
     ]
    }
   ],
   "source": [
    "all_data.info()"
   ]
  },
  {
   "cell_type": "code",
   "execution_count": 8,
   "metadata": {
    "execution": {
     "iopub.execute_input": "2024-11-06T20:30:17.818915Z",
     "iopub.status.busy": "2024-11-06T20:30:17.818533Z",
     "iopub.status.idle": "2024-11-06T20:30:18.012046Z",
     "shell.execute_reply": "2024-11-06T20:30:18.011125Z",
     "shell.execute_reply.started": "2024-11-06T20:30:17.818879Z"
    },
    "trusted": true
   },
   "outputs": [
    {
     "data": {
      "text/plain": [
       "timestamp    0\n",
       "back_x       0\n",
       "back_y       0\n",
       "back_z       0\n",
       "thigh_x      0\n",
       "thigh_y      0\n",
       "thigh_z      0\n",
       "label        0\n",
       "dtype: int64"
      ]
     },
     "execution_count": 8,
     "metadata": {},
     "output_type": "execute_result"
    }
   ],
   "source": [
    "all_data.isnull().sum()"
   ]
  },
  {
   "cell_type": "code",
   "execution_count": 9,
   "metadata": {
    "execution": {
     "iopub.execute_input": "2024-11-06T20:30:21.518312Z",
     "iopub.status.busy": "2024-11-06T20:30:21.517481Z",
     "iopub.status.idle": "2024-11-06T20:30:21.988466Z",
     "shell.execute_reply": "2024-11-06T20:30:21.987466Z",
     "shell.execute_reply.started": "2024-11-06T20:30:21.518273Z"
    },
    "trusted": true
   },
   "outputs": [
    {
     "data": {
      "text/html": [
       "<div>\n",
       "<style scoped>\n",
       "    .dataframe tbody tr th:only-of-type {\n",
       "        vertical-align: middle;\n",
       "    }\n",
       "\n",
       "    .dataframe tbody tr th {\n",
       "        vertical-align: top;\n",
       "    }\n",
       "\n",
       "    .dataframe thead th {\n",
       "        text-align: right;\n",
       "    }\n",
       "</style>\n",
       "<table border=\"1\" class=\"dataframe\">\n",
       "  <thead>\n",
       "    <tr style=\"text-align: right;\">\n",
       "      <th></th>\n",
       "      <th>back_x</th>\n",
       "      <th>back_y</th>\n",
       "      <th>back_z</th>\n",
       "      <th>thigh_x</th>\n",
       "      <th>thigh_y</th>\n",
       "      <th>thigh_z</th>\n",
       "      <th>label</th>\n",
       "    </tr>\n",
       "  </thead>\n",
       "  <tbody>\n",
       "    <tr>\n",
       "      <th>count</th>\n",
       "      <td>1.832560e+06</td>\n",
       "      <td>1.832560e+06</td>\n",
       "      <td>1.832560e+06</td>\n",
       "      <td>1.832560e+06</td>\n",
       "      <td>1.832560e+06</td>\n",
       "      <td>1.832560e+06</td>\n",
       "      <td>1.832560e+06</td>\n",
       "    </tr>\n",
       "    <tr>\n",
       "      <th>mean</th>\n",
       "      <td>-8.683814e-01</td>\n",
       "      <td>-3.178814e-02</td>\n",
       "      <td>2.244210e-02</td>\n",
       "      <td>-6.763959e-01</td>\n",
       "      <td>8.185066e-03</td>\n",
       "      <td>-3.858819e-01</td>\n",
       "      <td>3.940692e+00</td>\n",
       "    </tr>\n",
       "    <tr>\n",
       "      <th>std</th>\n",
       "      <td>2.756643e-01</td>\n",
       "      <td>1.556768e-01</td>\n",
       "      <td>4.279549e-01</td>\n",
       "      <td>5.596829e-01</td>\n",
       "      <td>2.707317e-01</td>\n",
       "      <td>5.087015e-01</td>\n",
       "      <td>2.912512e+00</td>\n",
       "    </tr>\n",
       "    <tr>\n",
       "      <th>min</th>\n",
       "      <td>-4.333252e+00</td>\n",
       "      <td>-2.031006e+00</td>\n",
       "      <td>-2.204834e+00</td>\n",
       "      <td>-7.942139e+00</td>\n",
       "      <td>-5.142578e+00</td>\n",
       "      <td>-7.593750e+00</td>\n",
       "      <td>1.000000e+00</td>\n",
       "    </tr>\n",
       "    <tr>\n",
       "      <th>25%</th>\n",
       "      <td>-9.909670e-01</td>\n",
       "      <td>-1.093750e-01</td>\n",
       "      <td>-2.692870e-01</td>\n",
       "      <td>-9.855960e-01</td>\n",
       "      <td>-1.132810e-01</td>\n",
       "      <td>-9.770510e-01</td>\n",
       "      <td>1.000000e+00</td>\n",
       "    </tr>\n",
       "    <tr>\n",
       "      <th>50%</th>\n",
       "      <td>-9.377440e-01</td>\n",
       "      <td>-1.855500e-02</td>\n",
       "      <td>-9.399400e-02</td>\n",
       "      <td>-9.357910e-01</td>\n",
       "      <td>-1.464800e-02</td>\n",
       "      <td>-1.906740e-01</td>\n",
       "      <td>3.000000e+00</td>\n",
       "    </tr>\n",
       "    <tr>\n",
       "      <th>75%</th>\n",
       "      <td>-8.344730e-01</td>\n",
       "      <td>5.761700e-02</td>\n",
       "      <td>3.078610e-01</td>\n",
       "      <td>-7.763700e-02</td>\n",
       "      <td>1.230470e-01</td>\n",
       "      <td>-3.174000e-03</td>\n",
       "      <td>7.000000e+00</td>\n",
       "    </tr>\n",
       "    <tr>\n",
       "      <th>max</th>\n",
       "      <td>3.630370e-01</td>\n",
       "      <td>1.576660e+00</td>\n",
       "      <td>1.179199e+00</td>\n",
       "      <td>3.395264e+00</td>\n",
       "      <td>5.725098e+00</td>\n",
       "      <td>3.953369e+00</td>\n",
       "      <td>8.000000e+00</td>\n",
       "    </tr>\n",
       "  </tbody>\n",
       "</table>\n",
       "</div>"
      ],
      "text/plain": [
       "             back_x        back_y        back_z       thigh_x       thigh_y  \\\n",
       "count  1.832560e+06  1.832560e+06  1.832560e+06  1.832560e+06  1.832560e+06   \n",
       "mean  -8.683814e-01 -3.178814e-02  2.244210e-02 -6.763959e-01  8.185066e-03   \n",
       "std    2.756643e-01  1.556768e-01  4.279549e-01  5.596829e-01  2.707317e-01   \n",
       "min   -4.333252e+00 -2.031006e+00 -2.204834e+00 -7.942139e+00 -5.142578e+00   \n",
       "25%   -9.909670e-01 -1.093750e-01 -2.692870e-01 -9.855960e-01 -1.132810e-01   \n",
       "50%   -9.377440e-01 -1.855500e-02 -9.399400e-02 -9.357910e-01 -1.464800e-02   \n",
       "75%   -8.344730e-01  5.761700e-02  3.078610e-01 -7.763700e-02  1.230470e-01   \n",
       "max    3.630370e-01  1.576660e+00  1.179199e+00  3.395264e+00  5.725098e+00   \n",
       "\n",
       "            thigh_z         label  \n",
       "count  1.832560e+06  1.832560e+06  \n",
       "mean  -3.858819e-01  3.940692e+00  \n",
       "std    5.087015e-01  2.912512e+00  \n",
       "min   -7.593750e+00  1.000000e+00  \n",
       "25%   -9.770510e-01  1.000000e+00  \n",
       "50%   -1.906740e-01  3.000000e+00  \n",
       "75%   -3.174000e-03  7.000000e+00  \n",
       "max    3.953369e+00  8.000000e+00  "
      ]
     },
     "execution_count": 9,
     "metadata": {},
     "output_type": "execute_result"
    }
   ],
   "source": [
    "all_data.describe()"
   ]
  },
  {
   "cell_type": "code",
   "execution_count": 10,
   "metadata": {
    "execution": {
     "iopub.execute_input": "2024-11-06T20:30:26.217974Z",
     "iopub.status.busy": "2024-11-06T20:30:26.217604Z",
     "iopub.status.idle": "2024-11-06T20:30:26.225156Z",
     "shell.execute_reply": "2024-11-06T20:30:26.224119Z",
     "shell.execute_reply.started": "2024-11-06T20:30:26.217940Z"
    },
    "trusted": true
   },
   "outputs": [
    {
     "data": {
      "text/plain": [
       "Index(['timestamp', 'back_x', 'back_y', 'back_z', 'thigh_x', 'thigh_y',\n",
       "       'thigh_z', 'label'],\n",
       "      dtype='object')"
      ]
     },
     "execution_count": 10,
     "metadata": {},
     "output_type": "execute_result"
    }
   ],
   "source": [
    "all_data.columns"
   ]
  },
  {
   "cell_type": "code",
   "execution_count": 11,
   "metadata": {
    "execution": {
     "iopub.execute_input": "2024-11-06T20:30:29.757949Z",
     "iopub.status.busy": "2024-11-06T20:30:29.756910Z",
     "iopub.status.idle": "2024-11-06T20:30:29.826989Z",
     "shell.execute_reply": "2024-11-06T20:30:29.825968Z",
     "shell.execute_reply.started": "2024-11-06T20:30:29.757898Z"
    },
    "trusted": true
   },
   "outputs": [],
   "source": [
    "all_data = all_data.drop('timestamp', axis = 1)"
   ]
  },
  {
   "cell_type": "code",
   "execution_count": 12,
   "metadata": {
    "execution": {
     "iopub.execute_input": "2024-11-06T20:30:32.888202Z",
     "iopub.status.busy": "2024-11-06T20:30:32.887802Z",
     "iopub.status.idle": "2024-11-06T20:30:32.894762Z",
     "shell.execute_reply": "2024-11-06T20:30:32.893797Z",
     "shell.execute_reply.started": "2024-11-06T20:30:32.888167Z"
    },
    "trusted": true
   },
   "outputs": [
    {
     "data": {
      "text/plain": [
       "Index(['back_x', 'back_y', 'back_z', 'thigh_x', 'thigh_y', 'thigh_z', 'label'], dtype='object')"
      ]
     },
     "execution_count": 12,
     "metadata": {},
     "output_type": "execute_result"
    }
   ],
   "source": [
    "all_data.columns"
   ]
  },
  {
   "cell_type": "code",
   "execution_count": 13,
   "metadata": {
    "execution": {
     "iopub.execute_input": "2024-11-06T20:30:36.330981Z",
     "iopub.status.busy": "2024-11-06T20:30:36.330300Z",
     "iopub.status.idle": "2024-11-06T20:30:37.776114Z",
     "shell.execute_reply": "2024-11-06T20:30:37.775326Z",
     "shell.execute_reply.started": "2024-11-06T20:30:36.330942Z"
    },
    "trusted": true
   },
   "outputs": [
    {
     "name": "stdout",
     "output_type": "stream",
     "text": [
      "Duplicate values in data ---->  46610\n"
     ]
    }
   ],
   "source": [
    "print(\"Duplicate values in data ----> \",all_data.duplicated().sum())\n",
    "all_data = all_data.drop_duplicates()"
   ]
  },
  {
   "cell_type": "code",
   "execution_count": 14,
   "metadata": {
    "execution": {
     "iopub.execute_input": "2024-11-06T20:30:39.905700Z",
     "iopub.status.busy": "2024-11-06T20:30:39.904982Z",
     "iopub.status.idle": "2024-11-06T20:30:39.911594Z",
     "shell.execute_reply": "2024-11-06T20:30:39.910607Z",
     "shell.execute_reply.started": "2024-11-06T20:30:39.905660Z"
    },
    "trusted": true
   },
   "outputs": [
    {
     "data": {
      "text/plain": [
       "(1785950, 7)"
      ]
     },
     "execution_count": 14,
     "metadata": {},
     "output_type": "execute_result"
    }
   ],
   "source": [
    "all_data.shape"
   ]
  },
  {
   "cell_type": "code",
   "execution_count": 15,
   "metadata": {
    "execution": {
     "iopub.execute_input": "2024-11-06T20:30:42.668198Z",
     "iopub.status.busy": "2024-11-06T20:30:42.667528Z",
     "iopub.status.idle": "2024-11-06T20:30:42.683753Z",
     "shell.execute_reply": "2024-11-06T20:30:42.682929Z",
     "shell.execute_reply.started": "2024-11-06T20:30:42.668158Z"
    },
    "trusted": true
   },
   "outputs": [
    {
     "data": {
      "text/plain": [
       "array([6, 3, 7, 1, 8, 5, 4])"
      ]
     },
     "execution_count": 15,
     "metadata": {},
     "output_type": "execute_result"
    }
   ],
   "source": [
    "all_data['label'].unique()"
   ]
  },
  {
   "cell_type": "markdown",
   "metadata": {},
   "source": [
    "EDA\n",
    "------"
   ]
  },
  {
   "cell_type": "code",
   "execution_count": null,
   "metadata": {},
   "outputs": [
    {
     "name": "stdout",
     "output_type": "stream",
     "text": [
      "Distribution of each label as percentage:\n",
      " label\n",
      "1    48.696212\n",
      "7    20.078278\n",
      "6    19.132507\n",
      "8     8.781657\n",
      "3     2.849520\n",
      "5     0.253199\n",
      "4     0.208628\n",
      "Name: proportion, dtype: float64\n"
     ]
    },
    {
     "data": {
      "image/png": "[encoded data removed]",
      "text/plain": [
       "<Figure size 1000x600 with 1 Axes>"
      ]
     },
     "metadata": {},
     "output_type": "display_data"
    }
   ],
   "source": [
    "import pandas as pd\n",
    "import matplotlib.pyplot as plt\n",
    "\n",
    "# Calculate the distribution for each category\n",
    "label_counts = all_data['label'].value_counts(normalize=True) * 100\n",
    "\n",
    "# Print the percentage for each category\n",
    "print(\"Distribution of each label as percentage:\\n\", label_counts)\n",
    "\n",
    "# A graph showing the distribution\n",
    "plt.figure(figsize=(10, 6))\n",
    "label_counts.plot(kind='bar', color='blue')\n",
    "plt.title(\"Label Distribution in the Dataset\")\n",
    "plt.xlabel(\"Label\")\n",
    "plt.ylabel(\"Percentage (%)\")\n",
    "plt.xticks(rotation=0)\n",
    "plt.show()"
   ]
  },
  {
   "cell_type": "code",
   "execution_count": null,
   "metadata": {},
   "outputs": [
    {
     "data": {
      "image/png": "[encoded data removed]",
      "text/plain": [
       "<Figure size 800x800 with 1 Axes>"
      ]
     },
     "metadata": {},
     "output_type": "display_data"
    }
   ],
   "source": [
    "import pandas as pd\n",
    "import matplotlib.pyplot as plt\n",
    "\n",
    "# Calculate the distribution for each category\n",
    "label_counts = all_data['label'].value_counts(normalize=True) * 100\n",
    "\n",
    "# Category names based on the numbers mentioned\n",
    "label_names = {\n",
    "    1: 'Walking',\n",
    "    3: 'Shuffling',\n",
    "    4: 'Stairs (Ascending)',\n",
    "    5: 'Stairs (Descending)',\n",
    "    6: 'Standing',\n",
    "    7: 'Sitting',\n",
    "    8: 'Lying'\n",
    "}\n",
    "\n",
    "colors = ['blue', 'green', 'orange', 'purple', 'red', 'cyan', 'pink']\n",
    "\n",
    "# Replace numeric values ​​with class names\n",
    "label_counts.index = label_counts.index.map(label_names)\n",
    "\n",
    "# Draw a pie chart without text inside the drawing\n",
    "plt.figure(figsize=(8, 8))  \n",
    "plt.pie(label_counts, labels=[\"\"] * len(label_counts), startangle=140, colors=colors[:len(label_counts)])\n",
    "\n",
    "# Add a title\n",
    "plt.title(\"Label Distribution in the Dataset\")\n",
    "\n",
    "# Add ligand with ratios\n",
    "plt.legend([f\"{label} ({count:.1f}%)\" for label, count in zip(label_counts.index, label_counts)], \n",
    "           title=\"Activity Labels\", bbox_to_anchor=(1.05, 1), loc='upper left')\n",
    "\n",
    "plt.show()"
   ]
  },
  {
   "cell_type": "markdown",
   "metadata": {},
   "source": [
    "Split Data\n",
    "---------\n"
   ]
  },
  {
   "cell_type": "code",
   "execution_count": 18,
   "metadata": {
    "execution": {
     "iopub.execute_input": "2024-11-06T20:30:57.070436Z",
     "iopub.status.busy": "2024-11-06T20:30:57.069704Z",
     "iopub.status.idle": "2024-11-06T20:30:57.108960Z",
     "shell.execute_reply": "2024-11-06T20:30:57.108211Z",
     "shell.execute_reply.started": "2024-11-06T20:30:57.070395Z"
    },
    "trusted": true
   },
   "outputs": [],
   "source": [
    "X = all_data.drop(['label'], axis=1)\n",
    "y = pd.DataFrame(all_data['label'])"
   ]
  },
  {
   "cell_type": "code",
   "execution_count": 19,
   "metadata": {
    "execution": {
     "iopub.execute_input": "2024-11-06T20:31:00.617942Z",
     "iopub.status.busy": "2024-11-06T20:31:00.617082Z",
     "iopub.status.idle": "2024-11-06T20:31:01.498609Z",
     "shell.execute_reply": "2024-11-06T20:31:01.497675Z",
     "shell.execute_reply.started": "2024-11-06T20:31:00.617903Z"
    },
    "trusted": true
   },
   "outputs": [
    {
     "data": {
      "text/plain": [
       "((1428760, 6), (1428760, 1), (357190, 6), (357190, 1))"
      ]
     },
     "execution_count": 19,
     "metadata": {},
     "output_type": "execute_result"
    }
   ],
   "source": [
    "from sklearn.model_selection import train_test_split\n",
    "\n",
    "x_train, x_test, y_train, y_test = train_test_split(X, y, test_size=0.2, random_state=42)\n",
    "\n",
    "\n",
    "x_train.shape, y_train.shape, x_test.shape, y_test.shape"
   ]
  },
  {
   "cell_type": "markdown",
   "metadata": {},
   "source": [
    "Balance the labels using SMOTE\n",
    "--------------------------------"
   ]
  },
  {
   "cell_type": "code",
   "execution_count": 20,
   "metadata": {
    "execution": {
     "iopub.execute_input": "2024-11-06T20:31:05.340402Z",
     "iopub.status.busy": "2024-11-06T20:31:05.339585Z",
     "iopub.status.idle": "2024-11-06T20:31:28.394126Z",
     "shell.execute_reply": "2024-11-06T20:31:28.392961Z",
     "shell.execute_reply.started": "2024-11-06T20:31:05.340363Z"
    },
    "trusted": true
   },
   "outputs": [
    {
     "data": {
      "text/plain": [
       "((4873085, 6), (4873085, 1))"
      ]
     },
     "execution_count": 20,
     "metadata": {},
     "output_type": "execute_result"
    }
   ],
   "source": [
    "from imblearn.over_sampling import SMOTE\n",
    "smote = SMOTE(random_state=42)\n",
    "X_resampled, y_resampled = smote.fit_resample(x_train, y_train)\n",
    "X_resampled.shape, y_resampled.shape"
   ]
  },
  {
   "cell_type": "code",
   "execution_count": null,
   "metadata": {},
   "outputs": [
    {
     "name": "stdout",
     "output_type": "stream",
     "text": [
      "           back_x    back_y    back_z   thigh_x   thigh_y   thigh_z  label\n",
      "0       -0.723145  0.087402 -0.433594 -1.124756 -0.205322 -0.210205      1\n",
      "1       -0.968018  0.048096 -0.216553 -0.994629  0.003174  0.097656      6\n",
      "2       -0.870361  0.056396 -0.190430 -1.044434 -0.156006 -0.107666      1\n",
      "3       -0.998291 -0.307617 -0.604248 -0.994141  0.095703  0.161377      1\n",
      "4       -1.069336  0.294922 -0.124023 -1.048096  0.374023 -0.277100      1\n",
      "...           ...       ...       ...       ...       ...       ...    ...\n",
      "5227449 -0.950439 -0.178955 -0.591064 -0.918457  0.157471 -0.163330      1\n",
      "5227450 -1.036621 -0.232666 -0.580322 -1.538086 -0.211426  0.184570      1\n",
      "5227451 -0.920898  0.055420 -0.055664 -0.942627  0.401367 -0.112549      1\n",
      "5227452 -0.841553  0.029541 -0.258789 -1.010742 -0.212891 -0.078857      1\n",
      "5227453 -1.038086  0.067871 -0.248291 -1.123047 -0.123291  0.040283      1\n",
      "\n",
      "[5227454 rows x 7 columns]\n"
     ]
    }
   ],
   "source": [
    "# Assuming your SMOTE-processed features are in X_resampled and x_test\n",
    "# Assuming your labels (target variable) are in y_resampled and y_test\n",
    "\n",
    "# Concatenate features and labels\n",
    "combined_data = np.concatenate((X_resampled, x_test), axis=0)\n",
    "combined_labels = np.concatenate((y_resampled, y_test), axis=0)\n",
    "\n",
    "# Create a DataFrame with the combined data and labels\n",
    "data_smote = pd.DataFrame(combined_data, columns=['back_x', 'back_y', 'back_z', 'thigh_x', 'thigh_y', 'thigh_z'])\n",
    "data_smote['label'] = combined_labels\n",
    "\n",
    "print(data_smote)"
   ]
  },
  {
   "cell_type": "code",
   "execution_count": null,
   "metadata": {},
   "outputs": [
    {
     "data": {
      "image/png": "[encoded data removed]",
      "text/plain": [
       "<Figure size 800x800 with 1 Axes>"
      ]
     },
     "metadata": {},
     "output_type": "display_data"
    }
   ],
   "source": [
    "import pandas as pd\n",
    "import numpy as np\n",
    "import matplotlib.pyplot as plt\n",
    "\n",
    "# Check for the actual column name (replace with your actual target column name if needed)\n",
    "label_column = 'label'  # Assuming 'label' is the correct column name\n",
    "\n",
    "# Calculate the distribution for each category after SMOTE\n",
    "label_counts = data_smote[label_column].value_counts(normalize=True) * 100\n",
    "\n",
    "# Category names based on the numbers mentioned\n",
    "label_names = {\n",
    "    1: 'Walking',\n",
    "    3: 'Shuffling',\n",
    "    4: 'Stairs (Ascending)',\n",
    "    5: 'Stairs (Descending)',\n",
    "    6: 'Standing',\n",
    "    7: 'Sitting',\n",
    "    8: 'Lying'\n",
    "}\n",
    "\n",
    "# Replace numeric values with translated class names\n",
    "label_counts.index = label_counts.index.map(label_names)\n",
    "\n",
    "# Draw a pie chart without text inside the drawing\n",
    "plt.figure(figsize=(8, 8))\n",
    "plt.pie(label_counts, labels=[\"\"] * len(label_counts), startangle=140, colors=['blue', 'green', 'orange', 'purple', 'red', 'cyan', 'pink'])\n",
    "\n",
    "# Set the title and legend labels in Arabic using Unicode characters\n",
    "plt.title(\"Label Distribution After SMOTE\")\n",
    "plt.legend([f\"{label} ({count:.1f}%)\" for label, count in zip(label_counts.index, label_counts)],\n",
    "           title=\"Activity Labels\", bbox_to_anchor=(1.05, 1), loc='upper left')\n",
    "\n",
    "# Ensure proper font display for Arabic characters\n",
    "from matplotlib import rcParams\n",
    "rcParams['font.family'] = 'Arial'\n",
    "\n",
    "plt.show()"
   ]
  },
  {
   "cell_type": "markdown",
   "metadata": {},
   "source": [
    "Train RF model\n",
    "-----------------------"
   ]
  },
  {
   "cell_type": "code",
   "execution_count": 21,
   "metadata": {
    "execution": {
     "iopub.execute_input": "2024-11-06T20:31:39.333588Z",
     "iopub.status.busy": "2024-11-06T20:31:39.332809Z",
     "iopub.status.idle": "2024-11-06T21:13:29.364010Z",
     "shell.execute_reply": "2024-11-06T21:13:29.363050Z",
     "shell.execute_reply.started": "2024-11-06T20:31:39.333536Z"
    },
    "trusted": true
   },
   "outputs": [
    {
     "name": "stderr",
     "output_type": "stream",
     "text": [
      "/tmp/ipykernel_30/3379240251.py:4: DataConversionWarning: A column-vector y was passed when a 1d array was expected. Please change the shape of y to (n_samples,), for example using ravel().\n",
      "  classifier.fit(X_resampled, y_resampled)\n"
     ]
    },
    {
     "data": {
      "text/html": [
       "<style>#sk-container-id-1 {color: black;background-color: white;}#sk-container-id-1 pre{padding: 0;}#sk-container-id-1 div.sk-toggleable {background-color: white;}#sk-container-id-1 label.sk-toggleable__label {cursor: pointer;display: block;width: 100%;margin-bottom: 0;padding: 0.3em;box-sizing: border-box;text-align: center;}#sk-container-id-1 label.sk-toggleable__label-arrow:before {content: \"▸\";float: left;margin-right: 0.25em;color: #696969;}#sk-container-id-1 label.sk-toggleable__label-arrow:hover:before {color: black;}#sk-container-id-1 div.sk-estimator:hover label.sk-toggleable__label-arrow:before {color: black;}#sk-container-id-1 div.sk-toggleable__content {max-height: 0;max-width: 0;overflow: hidden;text-align: left;background-color: #f0f8ff;}#sk-container-id-1 div.sk-toggleable__content pre {margin: 0.2em;color: black;border-radius: 0.25em;background-color: #f0f8ff;}#sk-container-id-1 input.sk-toggleable__control:checked~div.sk-toggleable__content {max-height: 200px;max-width: 100%;overflow: auto;}#sk-container-id-1 input.sk-toggleable__control:checked~label.sk-toggleable__label-arrow:before {content: \"▾\";}#sk-container-id-1 div.sk-estimator input.sk-toggleable__control:checked~label.sk-toggleable__label {background-color: #d4ebff;}#sk-container-id-1 div.sk-label input.sk-toggleable__control:checked~label.sk-toggleable__label {background-color: #d4ebff;}#sk-container-id-1 input.sk-hidden--visually {border: 0;clip: rect(1px 1px 1px 1px);clip: rect(1px, 1px, 1px, 1px);height: 1px;margin: -1px;overflow: hidden;padding: 0;position: absolute;width: 1px;}#sk-container-id-1 div.sk-estimator {font-family: monospace;background-color: #f0f8ff;border: 1px dotted black;border-radius: 0.25em;box-sizing: border-box;margin-bottom: 0.5em;}#sk-container-id-1 div.sk-estimator:hover {background-color: #d4ebff;}#sk-container-id-1 div.sk-parallel-item::after {content: \"\";width: 100%;border-bottom: 1px solid gray;flex-grow: 1;}#sk-container-id-1 div.sk-label:hover label.sk-toggleable__label {background-color: #d4ebff;}#sk-container-id-1 div.sk-serial::before {content: \"\";position: absolute;border-left: 1px solid gray;box-sizing: border-box;top: 0;bottom: 0;left: 50%;z-index: 0;}#sk-container-id-1 div.sk-serial {display: flex;flex-direction: column;align-items: center;background-color: white;padding-right: 0.2em;padding-left: 0.2em;position: relative;}#sk-container-id-1 div.sk-item {position: relative;z-index: 1;}#sk-container-id-1 div.sk-parallel {display: flex;align-items: stretch;justify-content: center;background-color: white;position: relative;}#sk-container-id-1 div.sk-item::before, #sk-container-id-1 div.sk-parallel-item::before {content: \"\";position: absolute;border-left: 1px solid gray;box-sizing: border-box;top: 0;bottom: 0;left: 50%;z-index: -1;}#sk-container-id-1 div.sk-parallel-item {display: flex;flex-direction: column;z-index: 1;position: relative;background-color: white;}#sk-container-id-1 div.sk-parallel-item:first-child::after {align-self: flex-end;width: 50%;}#sk-container-id-1 div.sk-parallel-item:last-child::after {align-self: flex-start;width: 50%;}#sk-container-id-1 div.sk-parallel-item:only-child::after {width: 0;}#sk-container-id-1 div.sk-dashed-wrapped {border: 1px dashed gray;margin: 0 0.4em 0.5em 0.4em;box-sizing: border-box;padding-bottom: 0.4em;background-color: white;}#sk-container-id-1 div.sk-label label {font-family: monospace;font-weight: bold;display: inline-block;line-height: 1.2em;}#sk-container-id-1 div.sk-label-container {text-align: center;}#sk-container-id-1 div.sk-container {/* jupyter's `normalize.less` sets `[hidden] { display: none; }` but bootstrap.min.css set `[hidden] { display: none !important; }` so we also need the `!important` here to be able to override the default hidden behavior on the sphinx rendered scikit-learn.org. See: https://github.com/scikit-learn/scikit-learn/issues/21755 */display: inline-block !important;position: relative;}#sk-container-id-1 div.sk-text-repr-fallback {display: none;}</style><div id=\"sk-container-id-1\" class=\"sk-top-container\"><div class=\"sk-text-repr-fallback\"><pre>RandomForestClassifier(random_state=0)</pre><b>In a Jupyter environment, please rerun this cell to show the HTML representation or trust the notebook. <br />On GitHub, the HTML representation is unable to render, please try loading this page with nbviewer.org.</b></div><div class=\"sk-container\" hidden><div class=\"sk-item\"><div class=\"sk-estimator sk-toggleable\"><input class=\"sk-toggleable__control sk-hidden--visually\" id=\"sk-estimator-id-1\" type=\"checkbox\" checked><label for=\"sk-estimator-id-1\" class=\"sk-toggleable__label sk-toggleable__label-arrow\">RandomForestClassifier</label><div class=\"sk-toggleable__content\"><pre>RandomForestClassifier(random_state=0)</pre></div></div></div></div></div>"
      ],
      "text/plain": [
       "RandomForestClassifier(random_state=0)"
      ]
     },
     "execution_count": 21,
     "metadata": {},
     "output_type": "execute_result"
    }
   ],
   "source": [
    "from sklearn.ensemble import RandomForestClassifier \n",
    "\n",
    "classifier = RandomForestClassifier(n_estimators = 100, random_state = 0)\n",
    "classifier.fit(X_resampled, y_resampled)"
   ]
  },
  {
   "cell_type": "code",
   "execution_count": 22,
   "metadata": {
    "execution": {
     "iopub.execute_input": "2024-11-06T21:16:48.931918Z",
     "iopub.status.busy": "2024-11-06T21:16:48.931510Z",
     "iopub.status.idle": "2024-11-06T21:17:02.165025Z",
     "shell.execute_reply": "2024-11-06T21:17:02.164108Z",
     "shell.execute_reply.started": "2024-11-06T21:16:48.931881Z"
    },
    "trusted": true
   },
   "outputs": [
    {
     "data": {
      "text/plain": [
       "array([1, 1, 1, ..., 1, 1, 6])"
      ]
     },
     "execution_count": 22,
     "metadata": {},
     "output_type": "execute_result"
    }
   ],
   "source": [
    "y_pred = classifier.predict(x_test)\n",
    "y_pred"
   ]
  },
  {
   "cell_type": "code",
   "execution_count": 23,
   "metadata": {
    "execution": {
     "iopub.execute_input": "2024-11-06T21:17:05.568277Z",
     "iopub.status.busy": "2024-11-06T21:17:05.567893Z",
     "iopub.status.idle": "2024-11-06T21:17:05.578246Z",
     "shell.execute_reply": "2024-11-06T21:17:05.577317Z",
     "shell.execute_reply.started": "2024-11-06T21:17:05.568239Z"
    },
    "trusted": true
   },
   "outputs": [
    {
     "data": {
      "text/html": [
       "<div>\n",
       "<style scoped>\n",
       "    .dataframe tbody tr th:only-of-type {\n",
       "        vertical-align: middle;\n",
       "    }\n",
       "\n",
       "    .dataframe tbody tr th {\n",
       "        vertical-align: top;\n",
       "    }\n",
       "\n",
       "    .dataframe thead th {\n",
       "        text-align: right;\n",
       "    }\n",
       "</style>\n",
       "<table border=\"1\" class=\"dataframe\">\n",
       "  <thead>\n",
       "    <tr style=\"text-align: right;\">\n",
       "      <th></th>\n",
       "      <th>label</th>\n",
       "    </tr>\n",
       "  </thead>\n",
       "  <tbody>\n",
       "    <tr>\n",
       "      <th>222724</th>\n",
       "      <td>1</td>\n",
       "    </tr>\n",
       "    <tr>\n",
       "      <th>1310602</th>\n",
       "      <td>1</td>\n",
       "    </tr>\n",
       "    <tr>\n",
       "      <th>1300191</th>\n",
       "      <td>1</td>\n",
       "    </tr>\n",
       "    <tr>\n",
       "      <th>999163</th>\n",
       "      <td>7</td>\n",
       "    </tr>\n",
       "    <tr>\n",
       "      <th>520143</th>\n",
       "      <td>8</td>\n",
       "    </tr>\n",
       "    <tr>\n",
       "      <th>...</th>\n",
       "      <td>...</td>\n",
       "    </tr>\n",
       "    <tr>\n",
       "      <th>1699127</th>\n",
       "      <td>6</td>\n",
       "    </tr>\n",
       "    <tr>\n",
       "      <th>698131</th>\n",
       "      <td>1</td>\n",
       "    </tr>\n",
       "    <tr>\n",
       "      <th>1211005</th>\n",
       "      <td>1</td>\n",
       "    </tr>\n",
       "    <tr>\n",
       "      <th>1544181</th>\n",
       "      <td>1</td>\n",
       "    </tr>\n",
       "    <tr>\n",
       "      <th>1003140</th>\n",
       "      <td>6</td>\n",
       "    </tr>\n",
       "  </tbody>\n",
       "</table>\n",
       "<p>357190 rows × 1 columns</p>\n",
       "</div>"
      ],
      "text/plain": [
       "         label\n",
       "222724       1\n",
       "1310602      1\n",
       "1300191      1\n",
       "999163       7\n",
       "520143       8\n",
       "...        ...\n",
       "1699127      6\n",
       "698131       1\n",
       "1211005      1\n",
       "1544181      1\n",
       "1003140      6\n",
       "\n",
       "[357190 rows x 1 columns]"
      ]
     },
     "execution_count": 23,
     "metadata": {},
     "output_type": "execute_result"
    }
   ],
   "source": [
    "y_test"
   ]
  },
  {
   "cell_type": "markdown",
   "metadata": {},
   "source": [
    "Accuracy and Classification_report for RF Model\n",
    "-----------------------------"
   ]
  },
  {
   "cell_type": "code",
   "execution_count": 24,
   "metadata": {
    "execution": {
     "iopub.execute_input": "2024-11-06T21:17:10.545561Z",
     "iopub.status.busy": "2024-11-06T21:17:10.545215Z",
     "iopub.status.idle": "2024-11-06T21:17:10.571895Z",
     "shell.execute_reply": "2024-11-06T21:17:10.570973Z",
     "shell.execute_reply.started": "2024-11-06T21:17:10.545530Z"
    },
    "trusted": true
   },
   "outputs": [
    {
     "data": {
      "text/plain": [
       "0.9201657381225679"
      ]
     },
     "execution_count": 24,
     "metadata": {},
     "output_type": "execute_result"
    }
   ],
   "source": [
    "from sklearn.metrics import accuracy_score\n",
    "\n",
    "accuracy_score(y_test, y_pred)"
   ]
  },
  {
   "cell_type": "code",
   "execution_count": 25,
   "metadata": {
    "execution": {
     "iopub.execute_input": "2024-11-06T21:17:22.380158Z",
     "iopub.status.busy": "2024-11-06T21:17:22.379277Z",
     "iopub.status.idle": "2024-11-06T21:17:22.728692Z",
     "shell.execute_reply": "2024-11-06T21:17:22.727695Z",
     "shell.execute_reply.started": "2024-11-06T21:17:22.380118Z"
    },
    "trusted": true
   },
   "outputs": [
    {
     "name": "stdout",
     "output_type": "stream",
     "text": [
      "Confusion Matrix:\n",
      " [[158111   9249    706    874   4532     63      0]\n",
      " [  3216   5085     65     82   1711      0      0]\n",
      " [   319     45    386     32     14      0      0]\n",
      " [   509     63     16    312     25      0      0]\n",
      " [  3102   3684     43     69  62075      0      0]\n",
      " [    50      0      4      1      0  71408     23]\n",
      " [     0      0      0      0      0     19  31297]]\n"
     ]
    }
   ],
   "source": [
    "import sklearn.metrics as mc\n",
    "\n",
    "conf = mc.confusion_matrix(y_test, y_pred)\n",
    "print(\"Confusion Matrix:\\n\", conf)"
   ]
  },
  {
   "cell_type": "code",
   "execution_count": 26,
   "metadata": {
    "execution": {
     "iopub.execute_input": "2024-11-06T21:17:40.477617Z",
     "iopub.status.busy": "2024-11-06T21:17:40.476968Z",
     "iopub.status.idle": "2024-11-06T21:17:40.981904Z",
     "shell.execute_reply": "2024-11-06T21:17:40.980938Z",
     "shell.execute_reply.started": "2024-11-06T21:17:40.477572Z"
    },
    "trusted": true
   },
   "outputs": [
    {
     "name": "stdout",
     "output_type": "stream",
     "text": [
      "Classification Report:\n",
      "               precision    recall  f1-score   support\n",
      "\n",
      "           1       0.96      0.91      0.93    173535\n",
      "           3       0.28      0.50      0.36     10159\n",
      "           4       0.32      0.48      0.38       796\n",
      "           5       0.23      0.34      0.27       925\n",
      "           6       0.91      0.90      0.90     68973\n",
      "           7       1.00      1.00      1.00     71486\n",
      "           8       1.00      1.00      1.00     31316\n",
      "\n",
      "    accuracy                           0.92    357190\n",
      "   macro avg       0.67      0.73      0.69    357190\n",
      "weighted avg       0.94      0.92      0.93    357190\n",
      "\n"
     ]
    }
   ],
   "source": [
    "report = mc.classification_report(y_test, y_pred)\n",
    "print(\"Classification Report:\\n\", report)"
   ]
  },
  {
   "cell_type": "code",
   "execution_count": 29,
   "metadata": {
    "execution": {
     "iopub.execute_input": "2024-11-06T21:25:32.650424Z",
     "iopub.status.busy": "2024-11-06T21:25:32.649435Z",
     "iopub.status.idle": "2024-11-06T21:25:44.993634Z",
     "shell.execute_reply": "2024-11-06T21:25:44.992338Z",
     "shell.execute_reply.started": "2024-11-06T21:25:32.650371Z"
    },
    "trusted": true
   },
   "outputs": [],
   "source": [
    "import pickle\n",
    "with open('RF_model.pkl', 'wb') as file:\n",
    "    pickle.dump(classifier, file)\n",
    "with open('RF_model.pkl', 'rb') as file:\n",
    "    loaded_model = pickle.load(file)"
   ]
  },
  {
   "cell_type": "code",
   "execution_count": null,
   "metadata": {
    "trusted": true
   },
   "outputs": [],
   "source": []
  }
 ],
 "metadata": {
  "kaggle": {
   "accelerator": "gpu",
   "dataSources": [
    {
     "datasetId": 3483537,
     "sourceId": 6376717,
     "sourceType": "datasetVersion"
    }
   ],
   "dockerImageVersionId": 30787,
   "isGpuEnabled": true,
   "isInternetEnabled": true,
   "language": "python",
   "sourceType": "notebook"
  },
  "kernelspec": {
   "display_name": "Python 3",
   "language": "python",
   "name": "python3"
  },
  "language_info": {
   "codemirror_mode": {
    "name": "ipython",
    "version": 3
   },
   "file_extension": ".py",
   "mimetype": "text/x-python",
   "name": "python",
   "nbconvert_exporter": "python",
   "pygments_lexer": "ipython3",
   "version": "3.10.14"
  }
 },
 "nbformat": 4,
 "nbformat_minor": 4
}
